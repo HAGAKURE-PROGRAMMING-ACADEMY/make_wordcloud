{
  "nbformat": 4,
  "nbformat_minor": 0,
  "metadata": {
    "colab": {
      "provenance": []
    },
    "kernelspec": {
      "name": "python3",
      "display_name": "Python 3"
    },
    "language_info": {
      "name": "python"
    }
  },
  "cells": [
    {
      "cell_type": "code",
      "execution_count": null,
      "metadata": {
        "id": "5BcbZrdDEasJ",
        "collapsed": true
      },
      "outputs": [],
      "source": [
        "#janomeインストール\n",
        "!pip install janome"
      ]
    },
    {
      "cell_type": "code",
      "source": [
        "#Tokenizerインスタンス作成\n",
        "from janome.tokenizer import Tokenizer\n",
        "tokenizer = Tokenizer()"
      ],
      "metadata": {
        "id": "TvEoUJ-aYJ3V"
      },
      "execution_count": null,
      "outputs": []
    },
    {
      "cell_type": "code",
      "source": [
        "#解析するテキスト準備（手入力編）\n",
        "text = \"\"\"\n",
        "　こんにちは、初めまして何とかかんとか生きてます。python大好きです。\n",
        "\"\"\""
      ],
      "metadata": {
        "id": "-DzLd96OYi_o"
      },
      "execution_count": null,
      "outputs": []
    },
    {
      "cell_type": "code",
      "source": [
        "#解析するテキスト準備（hagakureのテキストcsv読み込み編）\n",
        "with open(\"/content/c_python.csv\",\"r\",encoding = \"cp932\") as f:\n",
        "  lines = f.readlines()\n",
        "  text =\"\"\n",
        "  for line in lines:\n",
        "    text = text + line.split(\",\")[0]\n",
        "  print(text)"
      ],
      "metadata": {
        "id": "j9jjhyEgY7A1"
      },
      "execution_count": null,
      "outputs": []
    },
    {
      "cell_type": "code",
      "source": [
        "#janomeで分かち書き（単語に分割）\n",
        "\"\"\"\n",
        "surface（表層形）\n",
        "part_of_speech（品詞）\n",
        "infl_type（活用型）\n",
        "infl_form（活用形）\n",
        "base_form（基本形、見出し語）\n",
        "reading（読み）\n",
        "phonetic（発音）\n",
        "\"\"\"\n",
        "\n",
        "tokens = tokenizer.tokenize(text)\n",
        "for token in tokens:\n",
        "  print(token)\n",
        "  # print(token.surface)\n",
        "  # print(token.part_of_speech)\n",
        "  # print(token.infl_type)\n",
        "  # print(token.infl_form)\n",
        "  # print(token.base_form)\n",
        "  # print(token.reading)\n",
        "  # print(token.phonetic)\n"
      ],
      "metadata": {
        "id": "M4tZ5ojLgglc"
      },
      "execution_count": null,
      "outputs": []
    },
    {
      "cell_type": "code",
      "source": [
        "#ユーザー辞書作成(分割されてしまう固有名詞等を登録)\n",
        "word_list = [\"青空文庫\",\"自然言語処理\"]\n",
        "userdict_str = \"\"\n",
        "for word in word_list:\n",
        "  userdict_one_str = word + \",-1,-1,-5000,名詞,一般,*,*,*,*,\"+ word + \",*,*\"\n",
        "  userdict_str += userdict_one_str + \"\\n\"\n",
        "with open(\"userdic.csv\",\"w\",encoding=\"utf-8\") as f:\n",
        "     f.write(userdict_str)"
      ],
      "metadata": {
        "id": "ZJJFu6FXiNU5"
      },
      "execution_count": null,
      "outputs": []
    },
    {
      "cell_type": "code",
      "source": [
        "#janomeで分かち書き２（ユーザー辞書を持たせて）\n",
        "tokenizer = Tokenizer(\"userdic.csv\",udic_enc=\"utf-8\")\n",
        "tokens = tokenizer.tokenize(text)\n",
        "for token in tokens:\n",
        "  print(token)\n",
        "  # print(token.surface)\n",
        "  # print(token.part_of_speech)\n",
        "  # print(token.infl_type)\n",
        "  # print(token.infl_form)\n",
        "  # print(token.base_form)\n",
        "  # print(token.reading)\n",
        "  # print(token.phonetic)"
      ],
      "metadata": {
        "id": "QvgwZxFMi4vt"
      },
      "execution_count": null,
      "outputs": []
    },
    {
      "cell_type": "code",
      "source": [
        "#ワードクラウド作成の為に、半角スペース区切りの文字列作成\n",
        "\n",
        "#ワードクラウドに入れたくない文字列はomit_listに登録\n",
        "omit_list =[\"の\",\"さん\",\"こと\",\"ん\",\"そう\"]\n",
        "#英数字は除外して登録するが、例外的に登録したい文字列はisascii_listに登録\n",
        "isascii_list = [\"Python\",\"google\",\"https\"]\n",
        "nouns = \"\"\n",
        "tokens = tokenizer.tokenize(text)\n",
        "\n",
        "for token in tokens:\n",
        "  if token.part_of_speech.split(\",\")[0] == \"名詞\":\n",
        "    noun = token.base_form.replace(\"_\",\"\")\n",
        "    if noun not in omit_list:\n",
        "      if noun in isascii_list:\n",
        "        nouns = nouns + noun + \" \"\n",
        "      elif noun.isascii() == False:\n",
        "        nouns = nouns + noun + \" \"\n",
        "print(nouns)"
      ],
      "metadata": {
        "id": "WQb-ILOo__vH"
      },
      "execution_count": null,
      "outputs": []
    },
    {
      "cell_type": "code",
      "source": [
        "#各名詞の登場回数を調べる。（Atcoder的なやつ。やってみよう！！！）\n",
        "from collections import Counter\n",
        "nouns_list = nouns.split(\" \")\n",
        "counter = Counter(nouns_list)\n",
        "counter.most_common()\n"
      ],
      "metadata": {
        "id": "0sRjwr4YE1ZZ"
      },
      "execution_count": null,
      "outputs": []
    },
    {
      "cell_type": "code",
      "source": [
        "#ワードクラウドライブラリのインストール\n",
        "!pip install wordcloud"
      ],
      "metadata": {
        "id": "Io79_FfAFPfi"
      },
      "execution_count": null,
      "outputs": []
    },
    {
      "cell_type": "code",
      "source": [
        "#インストールされているフォントの一覧を取得（デフォルトでは日本語のフォントはない）\n",
        "!fc-list"
      ],
      "metadata": {
        "id": "HwCsG9TWFjoV"
      },
      "execution_count": null,
      "outputs": []
    },
    {
      "cell_type": "code",
      "source": [
        "#手頃な日本語が使えるフリーフォントとしてipaexfontをインストール\n",
        "!apt install fonts-ipaexfont\n",
        "#他入れられる日本語フォントまとめ→　https://neos21.net/blog/2020/04/13-03.html"
      ],
      "metadata": {
        "id": "8Uh45Za3FmOd"
      },
      "execution_count": null,
      "outputs": []
    },
    {
      "cell_type": "code",
      "source": [
        "#フォント追加確認\n",
        "!fc-list"
      ],
      "metadata": {
        "id": "v3zaMFItF5gu"
      },
      "execution_count": null,
      "outputs": []
    },
    {
      "cell_type": "code",
      "source": [
        "\n",
        "#ワードクラウド作成、出力\n",
        "from wordcloud import WordCloud\n",
        "FONT_PATH =\"/usr/share/fonts/opentype/ipaexfont-gothic/ipaexg.ttf\"\n",
        "wordcloud = WordCloud(font_path=FONT_PATH,\n",
        "                      min_font_size=15,\n",
        "                      max_font_size=250,\n",
        "                      width=1000,\n",
        "                      height=600,\n",
        "                      background_color='orange',\n",
        "                      colormap=\"autumn\",\n",
        "                      collocations =False,#重複をなくすおまじない\n",
        "                      ).generate(nouns)\n",
        "wordcloud.to_file(\"result.png\")\n",
        "\n",
        "#colormap一覧→　https://karupoimou.hatenablog.com/entry/2019/05/17/153207"
      ],
      "metadata": {
        "id": "ApclQ9qXGhTA"
      },
      "execution_count": null,
      "outputs": []
    },
    {
      "cell_type": "code",
      "source": [
        "#透過pngの画像を用意して好きな形のワードクラウドを作成する\n",
        "#透過pngを作成できるサイト→https://www.peko-step.com/tool/alphachannel.html\n",
        "#画像を読み込んでマスク作成。\n",
        "import cv2\n",
        " \n",
        "IMG_PATH = \"/content/mask.png\"\n",
        " \n",
        "img = cv2.imread(IMG_PATH, -1)\n",
        "a_img = img[:, :, 3]\n",
        "result_img = cv2.bitwise_not(a_img)\n",
        "# cv2.imwrite('mask.png', result_img)"
      ],
      "metadata": {
        "id": "Io2-2annMb8w"
      },
      "execution_count": null,
      "outputs": []
    },
    {
      "cell_type": "code",
      "source": [
        "#引数にmaskを与えて作成。\n",
        "from wordcloud import WordCloud\n",
        "FONT_PATH =\"/usr/share/fonts/opentype/ipaexfont-gothic/ipaexg.ttf\"\n",
        "wordcloud = WordCloud(font_path=FONT_PATH,\n",
        "                      min_font_size=5,\n",
        "                      max_font_size=150,\n",
        "                      width=600,\n",
        "                      height=600,\n",
        "                      background_color='pink',\n",
        "                      colormap=\"autumn\",\n",
        "                      collocations =False,\n",
        "                      mask=result_img,\n",
        "                      ).generate(nouns)\n",
        "wordcloud.to_file(\"result.png\")"
      ],
      "metadata": {
        "id": "liKQyLE6QU0t"
      },
      "execution_count": null,
      "outputs": []
    }
  ]
}